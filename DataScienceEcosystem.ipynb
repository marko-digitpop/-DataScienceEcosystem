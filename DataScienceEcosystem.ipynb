{
 "cells": [
  {
   "cell_type": "markdown",
   "id": "383e86bc-d689-4cad-a37d-1e75c54d9bf0",
   "metadata": {},
   "source": [
    "# Data Science Tools and Ecosystem"
   ]
  },
  {
   "cell_type": "markdown",
   "id": "4e994f93-3d47-40f0-b0d9-8506eab9d1b9",
   "metadata": {},
   "source": [
    "In this notebook, Data Science Tools and Ecosystem are summarized."
   ]
  },
  {
   "cell_type": "markdown",
   "id": "8c4a435a-3f16-4ae9-a27c-7ac03752ef71",
   "metadata": {},
   "source": [
    "**Objectives:**\n",
    "\n",
    "* List popular languages for Data Science.\n",
    "* Identify commonly used Data Science libraries.\n",
    "* Recognize open-source development environment tools.\n",
    "* Demonstrate basic arithmetic operations in Python.\n",
    "* Become familiar with markdown formatting in Jupyter Notebooks."
   ]
  },
  {
   "cell_type": "markdown",
   "id": "87b2156b-5248-4675-8883-2aa17e786651",
   "metadata": {},
   "source": [
    "Some of the popular languages that Data Scientists use are:\n",
    "\n",
    "1.  **Python**\n",
    "2.  **R** \n",
    "3.  **SQL** \n",
    "4.  **Julia**"
   ]
  },
  {
   "cell_type": "markdown",
   "id": "9296b98c-512b-4f77-812d-85a3b43959a1",
   "metadata": {},
   "source": [
    "Some of the commonly used libraries used by Data Scientists include:\n",
    "\n",
    "1.  **Pandas (Python)**\n",
    "2.  **NumPy (Python)**\n",
    "3.  **Scikit-learn (Python)**\n",
    "4.  **TensorFlow/PyTorch (Python)**\n",
    "5.  **Matplotlib/Seaborn (Python)**\n",
    "6. **ggplot2 (R)**"
   ]
  },
  {
   "cell_type": "markdown",
   "id": "cd5f1d63-7350-494d-875c-b3a0665633d2",
   "metadata": {},
   "source": [
    "| Data Science Tools |\n",
    "|--------------------|\n",
    "| Jupyter Notebook/Lab |\n",
    "| RStudio            |\n",
    "| VS Code (with extensions) |\n"
   ]
  },
  {
   "cell_type": "markdown",
   "id": "c6c249e8-f016-4ada-95da-d80e8fcce41f",
   "metadata": {},
   "source": [
    "### Below are a few examples of evaluating arithmetic expressions in Python"
   ]
  },
  {
   "cell_type": "code",
   "execution_count": 15,
   "id": "c9f43a89-abac-4a65-b0d2-718a46ee8ae4",
   "metadata": {},
   "outputs": [
    {
     "data": {
      "text/plain": [
       "17"
      ]
     },
     "execution_count": 15,
     "metadata": {},
     "output_type": "execute_result"
    }
   ],
   "source": [
    "# This is a simple arithmetic expression to multiply then add integers.\n",
    "(3 * 4) + 5"
   ]
  },
  {
   "cell_type": "code",
   "execution_count": 17,
   "id": "0cc238ed-db3c-4b7b-92fb-ae906207ef3f",
   "metadata": {},
   "outputs": [
    {
     "data": {
      "text/plain": [
       "3.3333333333333335"
      ]
     },
     "execution_count": 17,
     "metadata": {},
     "output_type": "execute_result"
    }
   ],
   "source": [
    "# This will convert 200 minutes to hours by dividing by 60.\n",
    "200 / 60"
   ]
  },
  {
   "cell_type": "markdown",
   "id": "b68fdd4c-20b2-4dfb-ab10-c2e5f353422d",
   "metadata": {},
   "source": [
    "## Author\n",
    "Marko Ugrenovic"
   ]
  },
  {
   "cell_type": "code",
   "execution_count": null,
   "id": "9100e289-2d40-4dcc-8223-8e7b6d7e6c26",
   "metadata": {},
   "outputs": [],
   "source": []
  }
 ],
 "metadata": {
  "kernelspec": {
   "display_name": "Python [conda env:base] *",
   "language": "python",
   "name": "conda-base-py"
  },
  "language_info": {
   "codemirror_mode": {
    "name": "ipython",
    "version": 3
   },
   "file_extension": ".py",
   "mimetype": "text/x-python",
   "name": "python",
   "nbconvert_exporter": "python",
   "pygments_lexer": "ipython3",
   "version": "3.12.7"
  }
 },
 "nbformat": 4,
 "nbformat_minor": 5
}
